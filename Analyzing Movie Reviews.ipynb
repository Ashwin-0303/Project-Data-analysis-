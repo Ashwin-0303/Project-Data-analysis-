{
 "cells": [
  {
   "cell_type": "markdown",
   "id": "dffb26c1-6948-4f78-b1cb-5a98e852fb47",
   "metadata": {},
   "source": [
    "# Analyzing Movie Reviews from RT, IMDB, Bookmyshow"
   ]
  },
  {
   "cell_type": "markdown",
   "id": "720952fe-8ce4-466d-9fd6-e0bf07d7b6f6",
   "metadata": {},
   "source": [
    "### Data structure"
   ]
  },
  {
   "cell_type": "code",
   "execution_count": 46,
   "id": "d409f3b2-363e-4320-ae05-39c597111efa",
   "metadata": {},
   "outputs": [
    {
     "data": {
      "text/html": [
       "<div>\n",
       "<style scoped>\n",
       "    .dataframe tbody tr th:only-of-type {\n",
       "        vertical-align: middle;\n",
       "    }\n",
       "\n",
       "    .dataframe tbody tr th {\n",
       "        vertical-align: top;\n",
       "    }\n",
       "\n",
       "    .dataframe thead th {\n",
       "        text-align: right;\n",
       "    }\n",
       "</style>\n",
       "<table border=\"1\" class=\"dataframe\">\n",
       "  <thead>\n",
       "    <tr style=\"text-align: right;\">\n",
       "      <th></th>\n",
       "      <th>FILM</th>\n",
       "      <th>RottenTomatoes</th>\n",
       "      <th>RottenTomatoes_User</th>\n",
       "      <th>Metacritic</th>\n",
       "      <th>Metacritic_User</th>\n",
       "      <th>IMDB</th>\n",
       "      <th>Bookmyshow_Stars</th>\n",
       "      <th>Bookmyshow_Ratingvalue</th>\n",
       "      <th>RT_norm</th>\n",
       "      <th>RT_user_norm</th>\n",
       "      <th>...</th>\n",
       "      <th>IMDB_norm</th>\n",
       "      <th>RT_norm_round</th>\n",
       "      <th>RT_user_norm_round</th>\n",
       "      <th>Metacritic_norm_round</th>\n",
       "      <th>Metacritic_user_norm_round</th>\n",
       "      <th>IMDB_norm_round</th>\n",
       "      <th>Metacritic_user_vote_count</th>\n",
       "      <th>IMDB_user_vote_count</th>\n",
       "      <th>Bookmyshow_votes</th>\n",
       "      <th>Bookmyshow_Difference</th>\n",
       "    </tr>\n",
       "  </thead>\n",
       "  <tbody>\n",
       "    <tr>\n",
       "      <th>0</th>\n",
       "      <td>Tenet (2020)</td>\n",
       "      <td>74</td>\n",
       "      <td>86</td>\n",
       "      <td>66</td>\n",
       "      <td>7.1</td>\n",
       "      <td>7.8</td>\n",
       "      <td>5.0</td>\n",
       "      <td>4.5</td>\n",
       "      <td>3.70</td>\n",
       "      <td>4.3</td>\n",
       "      <td>...</td>\n",
       "      <td>3.90</td>\n",
       "      <td>3.5</td>\n",
       "      <td>4.5</td>\n",
       "      <td>3.5</td>\n",
       "      <td>3.5</td>\n",
       "      <td>4.0</td>\n",
       "      <td>1330</td>\n",
       "      <td>271107</td>\n",
       "      <td>14846</td>\n",
       "      <td>0.5</td>\n",
       "    </tr>\n",
       "    <tr>\n",
       "      <th>1</th>\n",
       "      <td>The Invisible Man (2020)</td>\n",
       "      <td>85</td>\n",
       "      <td>80</td>\n",
       "      <td>67</td>\n",
       "      <td>7.5</td>\n",
       "      <td>7.1</td>\n",
       "      <td>5.0</td>\n",
       "      <td>4.5</td>\n",
       "      <td>4.25</td>\n",
       "      <td>4.0</td>\n",
       "      <td>...</td>\n",
       "      <td>3.55</td>\n",
       "      <td>4.5</td>\n",
       "      <td>4.0</td>\n",
       "      <td>3.5</td>\n",
       "      <td>4.0</td>\n",
       "      <td>3.5</td>\n",
       "      <td>249</td>\n",
       "      <td>65709</td>\n",
       "      <td>12640</td>\n",
       "      <td>0.5</td>\n",
       "    </tr>\n",
       "    <tr>\n",
       "      <th>2</th>\n",
       "      <td>Bad Boys for Life (2020)</td>\n",
       "      <td>80</td>\n",
       "      <td>90</td>\n",
       "      <td>64</td>\n",
       "      <td>8.1</td>\n",
       "      <td>7.8</td>\n",
       "      <td>5.0</td>\n",
       "      <td>4.5</td>\n",
       "      <td>4.00</td>\n",
       "      <td>4.5</td>\n",
       "      <td>...</td>\n",
       "      <td>3.90</td>\n",
       "      <td>4.0</td>\n",
       "      <td>4.5</td>\n",
       "      <td>3.0</td>\n",
       "      <td>4.0</td>\n",
       "      <td>4.0</td>\n",
       "      <td>627</td>\n",
       "      <td>103660</td>\n",
       "      <td>12055</td>\n",
       "      <td>0.5</td>\n",
       "    </tr>\n",
       "    <tr>\n",
       "      <th>3</th>\n",
       "      <td>Wonder Woman 1984 (2020)</td>\n",
       "      <td>18</td>\n",
       "      <td>84</td>\n",
       "      <td>22</td>\n",
       "      <td>4.7</td>\n",
       "      <td>5.4</td>\n",
       "      <td>5.0</td>\n",
       "      <td>4.5</td>\n",
       "      <td>0.90</td>\n",
       "      <td>4.2</td>\n",
       "      <td>...</td>\n",
       "      <td>2.70</td>\n",
       "      <td>1.0</td>\n",
       "      <td>4.0</td>\n",
       "      <td>1.0</td>\n",
       "      <td>2.5</td>\n",
       "      <td>2.5</td>\n",
       "      <td>31</td>\n",
       "      <td>3136</td>\n",
       "      <td>1793</td>\n",
       "      <td>0.5</td>\n",
       "    </tr>\n",
       "    <tr>\n",
       "      <th>4</th>\n",
       "      <td>Soul (2020)</td>\n",
       "      <td>14</td>\n",
       "      <td>28</td>\n",
       "      <td>29</td>\n",
       "      <td>3.4</td>\n",
       "      <td>5.1</td>\n",
       "      <td>3.5</td>\n",
       "      <td>3.0</td>\n",
       "      <td>0.70</td>\n",
       "      <td>1.4</td>\n",
       "      <td>...</td>\n",
       "      <td>2.55</td>\n",
       "      <td>0.5</td>\n",
       "      <td>1.5</td>\n",
       "      <td>1.5</td>\n",
       "      <td>1.5</td>\n",
       "      <td>2.5</td>\n",
       "      <td>88</td>\n",
       "      <td>19560</td>\n",
       "      <td>1021</td>\n",
       "      <td>0.5</td>\n",
       "    </tr>\n",
       "  </tbody>\n",
       "</table>\n",
       "<p>5 rows × 22 columns</p>\n",
       "</div>"
      ],
      "text/plain": [
       "                       FILM  RottenTomatoes  RottenTomatoes_User  Metacritic  \\\n",
       "0              Tenet (2020)              74                   86          66   \n",
       "1  The Invisible Man (2020)              85                   80          67   \n",
       "2  Bad Boys for Life (2020)              80                   90          64   \n",
       "3  Wonder Woman 1984 (2020)              18                   84          22   \n",
       "4               Soul (2020)              14                   28          29   \n",
       "\n",
       "   Metacritic_User  IMDB  Bookmyshow_Stars  Bookmyshow_Ratingvalue  RT_norm  \\\n",
       "0              7.1   7.8               5.0                     4.5     3.70   \n",
       "1              7.5   7.1               5.0                     4.5     4.25   \n",
       "2              8.1   7.8               5.0                     4.5     4.00   \n",
       "3              4.7   5.4               5.0                     4.5     0.90   \n",
       "4              3.4   5.1               3.5                     3.0     0.70   \n",
       "\n",
       "   RT_user_norm  ...  IMDB_norm  RT_norm_round  RT_user_norm_round  \\\n",
       "0           4.3  ...       3.90            3.5                 4.5   \n",
       "1           4.0  ...       3.55            4.5                 4.0   \n",
       "2           4.5  ...       3.90            4.0                 4.5   \n",
       "3           4.2  ...       2.70            1.0                 4.0   \n",
       "4           1.4  ...       2.55            0.5                 1.5   \n",
       "\n",
       "   Metacritic_norm_round  Metacritic_user_norm_round  IMDB_norm_round  \\\n",
       "0                    3.5                         3.5              4.0   \n",
       "1                    3.5                         4.0              3.5   \n",
       "2                    3.0                         4.0              4.0   \n",
       "3                    1.0                         2.5              2.5   \n",
       "4                    1.5                         1.5              2.5   \n",
       "\n",
       "   Metacritic_user_vote_count  IMDB_user_vote_count  Bookmyshow_votes  \\\n",
       "0                        1330                271107             14846   \n",
       "1                         249                 65709             12640   \n",
       "2                         627                103660             12055   \n",
       "3                          31                  3136              1793   \n",
       "4                          88                 19560              1021   \n",
       "\n",
       "   Bookmyshow_Difference  \n",
       "0                    0.5  \n",
       "1                    0.5  \n",
       "2                    0.5  \n",
       "3                    0.5  \n",
       "4                    0.5  \n",
       "\n",
       "[5 rows x 22 columns]"
      ]
     },
     "execution_count": 46,
     "metadata": {},
     "output_type": "execute_result"
    }
   ],
   "source": [
    "import pandas as pd\n",
    "import matplotlib.pyplot as plt\n",
    "movies = pd.read_csv(\"Bookmyshow_score_comparison.csv\")\n",
    "movies.head()"
   ]
  },
  {
   "cell_type": "code",
   "execution_count": 52,
   "id": "101444e1-d872-4d6c-bca1-eee4c0653b37",
   "metadata": {},
   "outputs": [
    {
     "data": {
      "image/png": "[encoded data removed]",
      "text/plain": [
       "<Figure size 640x480 with 1 Axes>"
      ]
     },
     "metadata": {},
     "output_type": "display_data"
    }
   ],
   "source": [
    "plt.hist(movies[\"Metacritic_norm_round\"], bins=10, color='orange', edgecolor='black')\n",
    "plt.title('Histogram of Metacritic Normalized Scores')\n",
    "plt.xlabel('Metacritic Score (Rounded)')\n",
    "plt.ylabel('Frequency')\n",
    "plt.show()"
   ]
  },
  {
   "cell_type": "code",
   "execution_count": 60,
   "id": "2f092ef5-2744-4ad3-96a4-494aade04a91",
   "metadata": {},
   "outputs": [
    {
     "data": {
      "text/plain": [
       "(array([12.,  0., 27.,  0.,  0., 41.,  0., 55.,  0., 11.]),\n",
       " array([3. , 3.2, 3.4, 3.6, 3.8, 4. , 4.2, 4.4, 4.6, 4.8, 5. ]),\n",
       " <BarContainer object of 10 artists>)"
      ]
     },
     "execution_count": 60,
     "metadata": {},
     "output_type": "execute_result"
    }
   ],
   "source": [
    "plt.hist(movies[\"Bookmyshow_Stars\"])"
   ]
  },
  {
   "cell_type": "code",
   "execution_count": 62,
   "id": "0caee036-d7dc-4e85-8555-3ad1b786a52e",
   "metadata": {},
   "outputs": [
    {
     "data": {
      "image/png": "[encoded data removed]",
      "text/plain": [
       "<Figure size 640x480 with 1 Axes>"
      ]
     },
     "metadata": {},
     "output_type": "display_data"
    }
   ],
   "source": [
    "plt.hist(movies[\"Bookmyshow_Stars\"])\n",
    "plt.show()"
   ]
  },
  {
   "cell_type": "code",
   "execution_count": 66,
   "id": "93441e91-e1a9-45fe-b522-488109b553be",
   "metadata": {},
   "outputs": [
    {
     "data": {
      "text/plain": [
       "4.089041095890411"
      ]
     },
     "execution_count": 66,
     "metadata": {},
     "output_type": "execute_result"
    }
   ],
   "source": [
    "import numpy as np\n",
    "\n",
    "Bookmyshow_mean = movies[\"Bookmyshow_Stars\"].mean()\n",
    "Bookmyshow_mean"
   ]
  },
  {
   "cell_type": "code",
   "execution_count": 70,
   "id": "cbf7dfa7-5069-479a-a56f-8c237b941620",
   "metadata": {},
   "outputs": [
    {
     "data": {
      "text/plain": [
       "4.0"
      ]
     },
     "execution_count": 70,
     "metadata": {},
     "output_type": "execute_result"
    }
   ],
   "source": [
    "Bookmyshow_median = movies[\"Bookmyshow_Stars\"].median()\n",
    "Bookmyshow_median"
   ]
  },
  {
   "cell_type": "code",
   "execution_count": 72,
   "id": "e4f5d244-ab08-459b-a98a-1e7d7e92b898",
   "metadata": {},
   "outputs": [
    {
     "name": "stdout",
     "output_type": "stream",
     "text": [
      "Metacritic mean: 2.9726027397260273\n",
      "Metacritic median: 3.0\n"
     ]
    }
   ],
   "source": [
    "meta_mean = movies[\"Metacritic_norm_round\"].mean()\n",
    "meta_med = movies[\"Metacritic_norm_round\"].median()\n",
    "print(\"Metacritic mean: \" + str(meta_mean))\n",
    "print(\"Metacritic median: \" + str(meta_med))"
   ]
  },
  {
   "cell_type": "markdown",
   "id": "b1c5ec35-5c32-4351-9e29-0085742b6550",
   "metadata": {},
   "source": [
    "## Correlation between Bookmyshow and Metacritic"
   ]
  },
  {
   "cell_type": "markdown",
   "id": "abd41fc6-7473-4db5-b193-5b875e76867f",
   "metadata": {},
   "source": [
    "There appears to be low correlation"
   ]
  },
  {
   "cell_type": "code",
   "execution_count": 80,
   "id": "b9133570-4350-4b64-a1e1-bbd66565a255",
   "metadata": {},
   "outputs": [
    {
     "data": {
      "text/plain": [
       "<matplotlib.collections.PathCollection at 0x25f2f3b6d20>"
      ]
     },
     "execution_count": 80,
     "metadata": {},
     "output_type": "execute_result"
    }
   ],
   "source": [
    "plt.scatter(movies[\"Metacritic_norm_round\"], movies[\"Bookmyshow_Stars\"])"
   ]
  },
  {
   "cell_type": "code",
   "execution_count": 88,
   "id": "5825d54c-2d2b-4c53-8ccc-d47753109b53",
   "metadata": {},
   "outputs": [
    {
     "data": {
      "image/png": "[encoded data removed]",
      "text/plain": [
       "<Figure size 640x480 with 1 Axes>"
      ]
     },
     "metadata": {},
     "output_type": "display_data"
    }
   ],
   "source": [
    "plt.scatter(movies[\"Metacritic_norm_round\"], movies[\"Bookmyshow_Stars\"], color='blue')\n",
    "plt.show()"
   ]
  },
  {
   "cell_type": "code",
   "execution_count": 90,
   "id": "749281c2-5fcd-4b1b-b9e4-2dd1ecb1ecc3",
   "metadata": {},
   "outputs": [
    {
     "data": {
      "text/html": [
       "<div>\n",
       "<style scoped>\n",
       "    .dataframe tbody tr th:only-of-type {\n",
       "        vertical-align: middle;\n",
       "    }\n",
       "\n",
       "    .dataframe tbody tr th {\n",
       "        vertical-align: top;\n",
       "    }\n",
       "\n",
       "    .dataframe thead th {\n",
       "        text-align: right;\n",
       "    }\n",
       "</style>\n",
       "<table border=\"1\" class=\"dataframe\">\n",
       "  <thead>\n",
       "    <tr style=\"text-align: right;\">\n",
       "      <th></th>\n",
       "      <th>FILM</th>\n",
       "      <th>RottenTomatoes</th>\n",
       "      <th>RottenTomatoes_User</th>\n",
       "      <th>Metacritic</th>\n",
       "      <th>Metacritic_User</th>\n",
       "      <th>IMDB</th>\n",
       "      <th>Bookmyshow_Stars</th>\n",
       "      <th>Bookmyshow_Ratingvalue</th>\n",
       "      <th>RT_norm</th>\n",
       "      <th>RT_user_norm</th>\n",
       "      <th>...</th>\n",
       "      <th>RT_norm_round</th>\n",
       "      <th>RT_user_norm_round</th>\n",
       "      <th>Metacritic_norm_round</th>\n",
       "      <th>Metacritic_user_norm_round</th>\n",
       "      <th>IMDB_norm_round</th>\n",
       "      <th>Metacritic_user_vote_count</th>\n",
       "      <th>IMDB_user_vote_count</th>\n",
       "      <th>Bookmyshow_votes</th>\n",
       "      <th>Bookmyshow_Difference</th>\n",
       "      <th>fm_diff</th>\n",
       "    </tr>\n",
       "  </thead>\n",
       "  <tbody>\n",
       "    <tr>\n",
       "      <th>3</th>\n",
       "      <td>Wonder Woman 1984 (2020)</td>\n",
       "      <td>18</td>\n",
       "      <td>84</td>\n",
       "      <td>22</td>\n",
       "      <td>4.7</td>\n",
       "      <td>5.4</td>\n",
       "      <td>5.0</td>\n",
       "      <td>4.5</td>\n",
       "      <td>0.90</td>\n",
       "      <td>4.20</td>\n",
       "      <td>...</td>\n",
       "      <td>1.0</td>\n",
       "      <td>4.0</td>\n",
       "      <td>1.0</td>\n",
       "      <td>2.5</td>\n",
       "      <td>2.5</td>\n",
       "      <td>31</td>\n",
       "      <td>3136</td>\n",
       "      <td>1793</td>\n",
       "      <td>0.5</td>\n",
       "      <td>4.0</td>\n",
       "    </tr>\n",
       "    <tr>\n",
       "      <th>85</th>\n",
       "      <td>Guardians of the Galaxy Vol 2 (2017)</td>\n",
       "      <td>20</td>\n",
       "      <td>81</td>\n",
       "      <td>30</td>\n",
       "      <td>5.9</td>\n",
       "      <td>7.4</td>\n",
       "      <td>4.5</td>\n",
       "      <td>4.3</td>\n",
       "      <td>1.00</td>\n",
       "      <td>4.05</td>\n",
       "      <td>...</td>\n",
       "      <td>1.0</td>\n",
       "      <td>4.0</td>\n",
       "      <td>1.5</td>\n",
       "      <td>3.0</td>\n",
       "      <td>3.5</td>\n",
       "      <td>38</td>\n",
       "      <td>5927</td>\n",
       "      <td>811</td>\n",
       "      <td>0.2</td>\n",
       "      <td>3.0</td>\n",
       "    </tr>\n",
       "    <tr>\n",
       "      <th>47</th>\n",
       "      <td>The Last Duel (2021)</td>\n",
       "      <td>27</td>\n",
       "      <td>61</td>\n",
       "      <td>33</td>\n",
       "      <td>4.8</td>\n",
       "      <td>5.2</td>\n",
       "      <td>4.5</td>\n",
       "      <td>4.2</td>\n",
       "      <td>1.35</td>\n",
       "      <td>3.05</td>\n",
       "      <td>...</td>\n",
       "      <td>1.5</td>\n",
       "      <td>3.0</td>\n",
       "      <td>1.5</td>\n",
       "      <td>2.5</td>\n",
       "      <td>2.5</td>\n",
       "      <td>108</td>\n",
       "      <td>19222</td>\n",
       "      <td>6835</td>\n",
       "      <td>0.3</td>\n",
       "      <td>3.0</td>\n",
       "    </tr>\n",
       "    <tr>\n",
       "      <th>19</th>\n",
       "      <td>Onward (2020)</td>\n",
       "      <td>17</td>\n",
       "      <td>54</td>\n",
       "      <td>27</td>\n",
       "      <td>5.3</td>\n",
       "      <td>5.6</td>\n",
       "      <td>4.5</td>\n",
       "      <td>4.1</td>\n",
       "      <td>0.85</td>\n",
       "      <td>2.70</td>\n",
       "      <td>...</td>\n",
       "      <td>1.0</td>\n",
       "      <td>2.5</td>\n",
       "      <td>1.5</td>\n",
       "      <td>2.5</td>\n",
       "      <td>3.0</td>\n",
       "      <td>246</td>\n",
       "      <td>19521</td>\n",
       "      <td>3886</td>\n",
       "      <td>0.4</td>\n",
       "      <td>3.0</td>\n",
       "    </tr>\n",
       "    <tr>\n",
       "      <th>134</th>\n",
       "      <td>The Batman 2 (2024)</td>\n",
       "      <td>31</td>\n",
       "      <td>73</td>\n",
       "      <td>33</td>\n",
       "      <td>4.8</td>\n",
       "      <td>7.2</td>\n",
       "      <td>4.5</td>\n",
       "      <td>4.5</td>\n",
       "      <td>1.55</td>\n",
       "      <td>3.65</td>\n",
       "      <td>...</td>\n",
       "      <td>1.5</td>\n",
       "      <td>3.5</td>\n",
       "      <td>1.5</td>\n",
       "      <td>2.5</td>\n",
       "      <td>3.5</td>\n",
       "      <td>49</td>\n",
       "      <td>25214</td>\n",
       "      <td>2603</td>\n",
       "      <td>0.0</td>\n",
       "      <td>3.0</td>\n",
       "    </tr>\n",
       "  </tbody>\n",
       "</table>\n",
       "<p>5 rows × 23 columns</p>\n",
       "</div>"
      ],
      "text/plain": [
       "                                     FILM  RottenTomatoes  \\\n",
       "3                Wonder Woman 1984 (2020)              18   \n",
       "85   Guardians of the Galaxy Vol 2 (2017)              20   \n",
       "47                   The Last Duel (2021)              27   \n",
       "19                          Onward (2020)              17   \n",
       "134                   The Batman 2 (2024)              31   \n",
       "\n",
       "     RottenTomatoes_User  Metacritic  Metacritic_User  IMDB  Bookmyshow_Stars  \\\n",
       "3                     84          22              4.7   5.4               5.0   \n",
       "85                    81          30              5.9   7.4               4.5   \n",
       "47                    61          33              4.8   5.2               4.5   \n",
       "19                    54          27              5.3   5.6               4.5   \n",
       "134                   73          33              4.8   7.2               4.5   \n",
       "\n",
       "     Bookmyshow_Ratingvalue  RT_norm  RT_user_norm  ...  RT_norm_round  \\\n",
       "3                       4.5     0.90          4.20  ...            1.0   \n",
       "85                      4.3     1.00          4.05  ...            1.0   \n",
       "47                      4.2     1.35          3.05  ...            1.5   \n",
       "19                      4.1     0.85          2.70  ...            1.0   \n",
       "134                     4.5     1.55          3.65  ...            1.5   \n",
       "\n",
       "     RT_user_norm_round  Metacritic_norm_round  Metacritic_user_norm_round  \\\n",
       "3                   4.0                    1.0                         2.5   \n",
       "85                  4.0                    1.5                         3.0   \n",
       "47                  3.0                    1.5                         2.5   \n",
       "19                  2.5                    1.5                         2.5   \n",
       "134                 3.5                    1.5                         2.5   \n",
       "\n",
       "     IMDB_norm_round  Metacritic_user_vote_count  IMDB_user_vote_count  \\\n",
       "3                2.5                          31                  3136   \n",
       "85               3.5                          38                  5927   \n",
       "47               2.5                         108                 19222   \n",
       "19               3.0                         246                 19521   \n",
       "134              3.5                          49                 25214   \n",
       "\n",
       "     Bookmyshow_votes  Bookmyshow_Difference  fm_diff  \n",
       "3                1793                    0.5      4.0  \n",
       "85                811                    0.2      3.0  \n",
       "47               6835                    0.3      3.0  \n",
       "19               3886                    0.4      3.0  \n",
       "134              2603                    0.0      3.0  \n",
       "\n",
       "[5 rows x 23 columns]"
      ]
     },
     "execution_count": 90,
     "metadata": {},
     "output_type": "execute_result"
    }
   ],
   "source": [
    "movies[\"fm_diff\"] = np.abs(movies[\"Metacritic_norm_round\"] - movies[\"Bookmyshow_Stars\"])\n",
    "movies.sort_values(by=\"fm_diff\", ascending=False).head(5)"
   ]
  },
  {
   "cell_type": "code",
   "execution_count": 92,
   "id": "b8c77e7b-0063-4529-8ee0-1cc811c07eaa",
   "metadata": {},
   "outputs": [
    {
     "data": {
      "text/plain": [
       "PearsonRResult(statistic=0.17844919073895918, pvalue=0.031161516228523988)"
      ]
     },
     "execution_count": 92,
     "metadata": {},
     "output_type": "execute_result"
    }
   ],
   "source": [
    "import scipy.stats as sts\n",
    "\n",
    "sts.pearsonr(movies[\"Metacritic_norm_round\"], movies[\"Bookmyshow_Stars\"])"
   ]
  },
  {
   "cell_type": "code",
   "execution_count": 96,
   "id": "5c28c5d8-5190-4d58-b168-0c06f633a299",
   "metadata": {},
   "outputs": [
    {
     "name": "stdout",
     "output_type": "stream",
     "text": [
      "slope: 0.0973110779739285\n",
      "intercept: 3.799773918899418\n"
     ]
    }
   ],
   "source": [
    "slope, intercept, r_value, p_value, stderr_slope = sts.linregress(movies[\"Metacritic_norm_round\"], movies[\"Bookmyshow_Stars\"])\n",
    "print(\"slope: \" + str(slope))\n",
    "print(\"intercept: \" + str(intercept))"
   ]
  },
  {
   "cell_type": "code",
   "execution_count": 98,
   "id": "ddab65e7-2cea-435c-bad8-15b139b72fd4",
   "metadata": {},
   "outputs": [
    {
     "data": {
      "text/plain": [
       "4.091707152821203"
      ]
     },
     "execution_count": 98,
     "metadata": {},
     "output_type": "execute_result"
    }
   ],
   "source": [
    "pred_3 = 3 * slope + intercept\n",
    "pred_3"
   ]
  },
  {
   "cell_type": "code",
   "execution_count": 142,
   "id": "2abd4134-8033-463a-a877-c2080250df4f",
   "metadata": {},
   "outputs": [
    {
     "data": {
      "image/png": "[encoded data removed]",
      "text/plain": [
       "<Figure size 640x480 with 1 Axes>"
      ]
     },
     "metadata": {},
     "output_type": "display_data"
    }
   ],
   "source": [
    "pred_1 = 1 * slope + intercept\n",
    "pred_5 = 5 * slope + intercept\n",
    "plt.scatter(movies[\"Metacritic_norm_round\"], movies[\"Bookmyshow_Stars\"], color='red')\n",
    "plt.plot([1,5],[pred_1,pred_5])\n",
    "plt.xlim(1,5)\n",
    "plt.show()"
   ]
  },
  {
   "cell_type": "code",
   "execution_count": 154,
   "id": "1a37dd17-f0c1-43a0-a0fa-4a30ff05db6e",
   "metadata": {},
   "outputs": [
    {
     "data": {
      "image/png": "[encoded data removed]",
      "text/plain": [
       "<Figure size 640x480 with 1 Axes>"
      ]
     },
     "metadata": {},
     "output_type": "display_data"
    }
   ],
   "source": [
    "import seaborn as sns\n",
    "import matplotlib.pyplot as plt\n",
    "sns.lineplot(data=movies.head(), x='FILM', y='IMDB', hue='Bookmyshow_Stars')\n",
    "plt.show()"
   ]
  },
  {
   "cell_type": "code",
   "execution_count": null,
   "id": "38d00cbd-d9e0-4fcc-9f1b-2bd47f53ce0e",
   "metadata": {},
   "outputs": [],
   "source": []
  }
 ],
 "metadata": {
  "kernelspec": {
   "display_name": "Python [conda env:base] *",
   "language": "python",
   "name": "conda-base-py"
  },
  "language_info": {
   "codemirror_mode": {
    "name": "ipython",
    "version": 3
   },
   "file_extension": ".py",
   "mimetype": "text/x-python",
   "name": "python",
   "nbconvert_exporter": "python",
   "pygments_lexer": "ipython3",
   "version": "3.12.7"
  }
 },
 "nbformat": 4,
 "nbformat_minor": 5
}
